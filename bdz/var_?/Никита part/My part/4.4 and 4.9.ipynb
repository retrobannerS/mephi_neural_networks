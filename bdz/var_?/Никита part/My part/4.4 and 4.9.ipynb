{
 "cells": [
  {
   "cell_type": "code",
   "execution_count": 1,
   "metadata": {
    "collapsed": true
   },
   "outputs": [],
   "source": [
    "import pandas as pd\n",
    "import matplotlib\n",
    "import theano\n",
    "import copy\n",
    "import matplotlib.pyplot as plt\n",
    "import numpy as np\n",
    "from torch.utils.data import Dataset, DataLoader\n",
    "from neupy import algorithms, layers, init, environment, plots\n",
    "from neupy.exceptions import StopTraining\n",
    "#theano.config.floatX = 'float32'"
   ]
  },
  {
   "cell_type": "code",
   "execution_count": 2,
   "metadata": {
    "collapsed": true
   },
   "outputs": [],
   "source": [
    "environment.reproducible() \n",
    "#environment.speedup()\n",
    "learn_data=pd.read_csv(\"../learn_data.csv\", index_col=0)\n",
    "#learn_data=pd.DataFrame(learn_data, dtype='float32')\n",
    "learn_data=np.array(learn_data)\n",
    "validation_data=pd.read_csv(\"../valid_data.csv\", index_col=0)\n",
    "#validation_data=pd.DataFrame(validation_data, dtype='float32')\n",
    "validation_data=np.array(validation_data)\n",
    "test_data=pd.read_csv(\"../test_data.csv\", index_col=0)\n",
    "#test_data=pd.DataFrame(test_data, dtype='float32')\n",
    "test_data=np.array(test_data)\n",
    "eps=0.000001\n",
    "number_of_epochs=5000\n",
    "nets={}"
   ]
  },
  {
   "cell_type": "code",
   "execution_count": 3,
   "metadata": {
    "collapsed": true
   },
   "outputs": [],
   "source": [
    "learn_params=learn_data[:,[0,1]]\n",
    "learn_target=learn_data[:,[2]]\n",
    "test_params=test_data[:,[0,1]]\n",
    "test_target=test_data[:,[2]]\n",
    "validation_params=validation_data[:,[0,1]]\n",
    "validation_target=validation_data[:,[2]]"
   ]
  },
  {
   "cell_type": "code",
   "execution_count": 4,
   "metadata": {
    "collapsed": true
   },
   "outputs": [],
   "source": [
    "#сами реализуйте функцию ошибки, я не смог в нормальном виде из сети результат вытянуть\n",
    "test_errors=[]\n",
    "def signal(net):\n",
    "    test_errors.append(((net.predict(test_params)-test_target)**2).sum()/len(test_target))\n",
    "    if len(net.errors)>20:\n",
    "        if abs(net.errors[len(net.errors)-1]-net.errors[len(net.errors)-2]) < eps:\n",
    "            raise StopTraining(\"Training has been interrupted\")"
   ]
  },
  {
   "cell_type": "code",
   "execution_count": 5,
   "metadata": {},
   "outputs": [
    {
     "name": "stdout",
     "output_type": "stream",
     "text": [
      "\n",
      "Main information\n",
      "\n",
      "[ALGORITHM] GradientDescent\n",
      "\n",
      "[OPTION] verbose = True\n",
      "[OPTION] epoch_end_signal = signal\n",
      "[OPTION] show_epoch = 50\n",
      "[OPTION] shuffle_data = True\n",
      "[OPTION] step = 0.1\n",
      "[OPTION] train_end_signal = None\n",
      "[OPTION] error = mse\n",
      "[OPTION] addons = ['LinearSearch']\n",
      "[OPTION] maxiter = 10\n",
      "[OPTION] search_method = golden\n",
      "[OPTION] tol = 0.1\n",
      "\n",
      "[THEANO] Initializing Theano variables and functions.\n",
      "[THEANO] Initialization finished successfully. It took 7.18 seconds\n"
     ]
    }
   ],
   "source": [
    "stepnet=algorithms.GradientDescent(\n",
    "     connection=[\n",
    "         layers.Input(2),\n",
    "         layers.Tanh(10, weight=init.XavierNormal(), bias=init.XavierNormal()),\n",
    "         layers.Tanh(10, weight=init.XavierNormal(), bias=init.XavierNormal()),\n",
    "         layers.Tanh(5, weight=init.XavierNormal(), bias=init.XavierNormal()),\n",
    "         layers.Linear(1, weight=init.XavierNormal(), bias=init.XavierNormal()),\n",
    "     ],\n",
    "     search_method='golden',\n",
    "     error='mse',\n",
    "     addons=[algorithms.LinearSearch],\n",
    "     verbose=True,\n",
    "     epoch_end_signal=signal,\n",
    "     shuffle_data=True,\n",
    "     show_epoch=50\n",
    "     \n",
    ")\n"
   ]
  },
  {
   "cell_type": "code",
   "execution_count": 6,
   "metadata": {
    "collapsed": true
   },
   "outputs": [],
   "source": [
    "weight1=stepnet.layers[1].weight.get_value()\n",
    "bias1=stepnet.layers[1].bias.get_value()\n",
    "weight2=stepnet.layers[2].weight.get_value()\n",
    "bias2=stepnet.layers[2].bias.get_value()\n",
    "weight3=stepnet.layers[3].weight.get_value()\n",
    "bias3=stepnet.layers[3].bias.get_value()\n",
    "weight4=stepnet.layers[4].weight.get_value()\n",
    "bias4=stepnet.layers[4].bias.get_value()"
   ]
  },
  {
   "cell_type": "code",
   "execution_count": 7,
   "metadata": {},
   "outputs": [
    {
     "name": "stdout",
     "output_type": "stream",
     "text": [
      "\n",
      "Start training\n",
      "\n",
      "[TRAINING DATA] shapes: (4665, 2)\n",
      "[TEST DATA] shapes: (2332, 2)\n",
      "[TRAINING] Total epochs: 1000\n",
      "\n",
      "---------------------------------------------------------\n",
      "|    Epoch    |  Train err  |  Valid err  |    Time     |\n",
      "---------------------------------------------------------\n",
      "|           1 |      0.9151 |     0.91445 |      357 ms |\n",
      "|          50 |     0.14461 |     0.13939 |      211 ms |\n",
      "|         100 |     0.13459 |     0.13044 |      211 ms |\n",
      "|         150 |     0.13129 |     0.12759 |      219 ms |\n",
      "|         200 |     0.13011 |     0.12668 |      212 ms |\n",
      "|         250 |     0.12961 |     0.12635 |      213 ms |\n",
      "|         300 |     0.12933 |     0.12616 |      211 ms |\n",
      "|         350 |     0.12914 |       0.126 |      210 ms |\n",
      "|         400 |     0.12897 |     0.12585 |      205 ms |\n",
      "|         450 |     0.12885 |     0.12573 |      215 ms |\n",
      "|         500 |     0.12875 |     0.12562 |      202 ms |\n",
      "|         550 |     0.12866 |     0.12552 |      199 ms |\n",
      "|         600 |     0.12859 |     0.12542 |      199 ms |\n",
      "---------------------------------------------------------\n",
      "[TRAIN] Epoch #648 stopped. Training has been interrupted\n",
      "|         648 |     0.12854 |     0.12535 |      202 ms |\n",
      "\n"
     ]
    }
   ],
   "source": [
    "stepnet.train(learn_params, learn_target, validation_params, validation_target, epochs=number_of_epochs)"
   ]
  },
  {
   "cell_type": "code",
   "execution_count": 8,
   "metadata": {},
   "outputs": [
    {
     "name": "stdout",
     "output_type": "stream",
     "text": [
      "sgd train error 0.12853530427820595\n",
      "sgd test error 0.11489887298064518\n"
     ]
    },
    {
     "data": {
      "image/png": "[encoded data removed]",
      "text/plain": [
       "<matplotlib.figure.Figure at 0x7f88e69f3d68>"
      ]
     },
     "metadata": {},
     "output_type": "display_data"
    }
   ],
   "source": [
    "print(\"sgd train error \"+str(stepnet.train_errors.last()))\n",
    "print(\"sgd test error \"+str(test_errors[len(test_errors)-1]))\n",
    "plt.clf()\n",
    "plt.grid(True)\n",
    "plt.plot(stepnet.train_errors, color='r', label='train') \n",
    "plt.plot(stepnet.validation_errors, color='b', label='valid') \n",
    "plt.plot(test_errors, color='g', label='test')\n",
    "plt.legend()\n",
    "plt.savefig('SGD_train_valid_test.png', bbox_inches='tight')\n",
    "nets[\"sgd\"]=stepnet.last_epoch"
   ]
  },
  {
   "cell_type": "code",
   "execution_count": 9,
   "metadata": {},
   "outputs": [
    {
     "name": "stdout",
     "output_type": "stream",
     "text": [
      "\n",
      "Main information\n",
      "\n",
      "[ALGORITHM] ConjugateGradient\n",
      "\n",
      "[OPTION] verbose = True\n",
      "[OPTION] epoch_end_signal = signal\n",
      "[OPTION] show_epoch = 50\n",
      "[OPTION] shuffle_data = False\n",
      "[OPTION] step = 0.01\n",
      "[OPTION] train_end_signal = None\n",
      "[OPTION] error = mse\n",
      "[OPTION] addons = ['LinearSearch']\n",
      "[OPTION] update_function = fletcher_reeves\n",
      "[OPTION] maxiter = 10\n",
      "[OPTION] search_method = golden\n",
      "[OPTION] tol = 0.1\n",
      "\n",
      "[THEANO] Initializing Theano variables and functions.\n",
      "[THEANO] Initialization finished successfully. It took 1.38 seconds\n"
     ]
    }
   ],
   "source": [
    "\n",
    "test_errors=[]\n",
    "fletchernet = algorithms.ConjugateGradient(\n",
    "     connection=[\n",
    "         layers.Input(2),\n",
    "         layers.Tanh(10, weight=copy.deepcopy(weight1), bias=copy.deepcopy(bias1)),\n",
    "         layers.Tanh(10, weight=copy.deepcopy(weight2), bias=copy.deepcopy(bias2)),\n",
    "         layers.Tanh(5, weight=copy.deepcopy(weight3), bias=copy.deepcopy(bias3)),\n",
    "         layers.Linear(1, weight=copy.deepcopy(weight4), bias=copy.deepcopy(bias4)),\n",
    "     ],\n",
    "     search_method='golden',\n",
    "     update_function='fletcher_reeves',\n",
    "     error='mse',\n",
    "     shuffle_data=False,\n",
    "     addons=[algorithms.LinearSearch],\n",
    "     step=0.01,\n",
    "     verbose=True,\n",
    "     epoch_end_signal=signal,\n",
    "     show_epoch=50\n",
    " )\n",
    "\n"
   ]
  },
  {
   "cell_type": "code",
   "execution_count": 10,
   "metadata": {},
   "outputs": [
    {
     "name": "stdout",
     "output_type": "stream",
     "text": [
      "\n",
      "Start training\n",
      "\n",
      "[TRAINING DATA] shapes: (4665, 2)\n",
      "[TEST DATA] shapes: (2332, 2)\n",
      "[TRAINING] Total epochs: 1000\n",
      "\n",
      "---------------------------------------------------------\n",
      "|    Epoch    |  Train err  |  Valid err  |    Time     |\n",
      "---------------------------------------------------------\n",
      "|           1 |      0.9151 |     0.91445 |      186 ms |\n",
      "|          50 |     0.12863 |     0.12563 |      141 ms |\n",
      "|         100 |     0.12751 |     0.12422 |      156 ms |\n",
      "|         150 |     0.12671 |     0.12354 |      166 ms |\n",
      "|         200 |     0.12569 |     0.12282 |      174 ms |\n",
      "|         250 |     0.12407 |     0.12141 |      205 ms |\n",
      "|         300 |     0.12355 |     0.12119 |      178 ms |\n",
      "|         350 |     0.12255 |     0.12094 |      178 ms |\n",
      "|         400 |      0.1221 |     0.12239 |      172 ms |\n",
      "---------------------------------------------------------\n",
      "[TRAIN] Epoch #424 stopped. Training has been interrupted\n",
      "|         424 |     0.12167 |     0.12123 |      162 ms |\n",
      "\n"
     ]
    }
   ],
   "source": [
    "fletchernet.train(learn_params, learn_target, validation_params, validation_target, epochs=number_of_epochs)"
   ]
  },
  {
   "cell_type": "code",
   "execution_count": 11,
   "metadata": {},
   "outputs": [
    {
     "name": "stdout",
     "output_type": "stream",
     "text": [
      "fletcher train error 0.12166561429181127\n",
      "fletcher test error 0.1128994318170728\n"
     ]
    },
    {
     "data": {
      "image/png": "[encoded data removed]",
      "text/plain": [
       "<matplotlib.figure.Figure at 0x7f88e690d278>"
      ]
     },
     "metadata": {},
     "output_type": "display_data"
    }
   ],
   "source": [
    "print(\"fletcher train error \"+str(fletchernet.train_errors.last()))\n",
    "print(\"fletcher test error \"+str(test_errors[len(test_errors)-1]))\n",
    "plt.clf()\n",
    "plt.grid(True)\n",
    "plt.plot(fletchernet.train_errors, color='r', label='train') \n",
    "plt.plot(fletchernet.validation_errors, color='b', label='valid') \n",
    "plt.plot(test_errors, color='g', label='test')\n",
    "plt.legend()\n",
    "plt.savefig('Fletcher_train_valid_test.png', bbox_inches='tight')\n",
    "nets[\"fletcher\"]=fletchernet.last_epoch"
   ]
  },
  {
   "cell_type": "code",
   "execution_count": 14,
   "metadata": {},
   "outputs": [
    {
     "name": "stdout",
     "output_type": "stream",
     "text": [
      "\n",
      "Main information\n",
      "\n",
      "[ALGORITHM] ConjugateGradient\n",
      "\n",
      "[OPTION] verbose = True\n",
      "[OPTION] epoch_end_signal = signal\n",
      "[OPTION] show_epoch = 50\n",
      "[OPTION] shuffle_data = False\n",
      "[OPTION] step = 0.1\n",
      "[OPTION] train_end_signal = None\n",
      "[OPTION] error = mse\n",
      "[OPTION] addons = ['LinearSearch']\n",
      "[OPTION] update_function = polak_ribiere\n",
      "[OPTION] maxiter = 10\n",
      "[OPTION] search_method = golden\n",
      "[OPTION] tol = 0.1\n",
      "\n",
      "[THEANO] Initializing Theano variables and functions.\n",
      "[THEANO] Initialization finished successfully. It took 0.45 seconds\n"
     ]
    }
   ],
   "source": [
    "test_errors=[]\n",
    "polaknet = algorithms.ConjugateGradient(\n",
    "     connection=[\n",
    "         layers.Input(2),\n",
    "         layers.Tanh(10, weight=copy.deepcopy(weight1), bias=copy.deepcopy(bias1)),\n",
    "         layers.Tanh(10, weight=copy.deepcopy(weight2), bias=copy.deepcopy(bias2)),\n",
    "         layers.Tanh(5, weight=copy.deepcopy(weight3), bias=copy.deepcopy(bias3)),\n",
    "         layers.Linear(1, weight=copy.deepcopy(weight4), bias=copy.deepcopy(bias4)),\n",
    "     ],\n",
    "     search_method='golden',\n",
    "     update_function='polak_ribiere',\n",
    "     error='mse',\n",
    "     shuffle_data=False,\n",
    "     addons=[algorithms.LinearSearch],\n",
    "     verbose=True,\n",
    "     epoch_end_signal=signal,\n",
    "     show_epoch=50\n",
    " )"
   ]
  },
  {
   "cell_type": "code",
   "execution_count": 15,
   "metadata": {},
   "outputs": [
    {
     "name": "stdout",
     "output_type": "stream",
     "text": [
      "\n",
      "Start training\n",
      "\n",
      "[TRAINING DATA] shapes: (4665, 2)\n",
      "[TEST DATA] shapes: (2332, 2)\n",
      "[TRAINING] Total epochs: 1000\n",
      "\n",
      "---------------------------------------------------------\n",
      "|    Epoch    |  Train err  |  Valid err  |    Time     |\n",
      "---------------------------------------------------------\n",
      "|           1 |      0.9151 |     0.91445 |      170 ms |\n",
      "|          50 |     0.12864 |     0.12568 |      147 ms |\n",
      "|         100 |     0.12753 |      0.1242 |      143 ms |\n",
      "|         150 |     0.12597 |     0.12317 |      295 ms |\n",
      "|         200 |     0.12393 |     0.12127 |      126 ms |\n",
      "---------------------------------------------------------\n",
      "[TRAIN] Epoch #204 stopped. Training has been interrupted\n",
      "|         204 |      0.1239 |     0.12121 |      172 ms |\n",
      "\n"
     ]
    }
   ],
   "source": [
    "polaknet.train(learn_params, learn_target, validation_params, validation_target, epochs=number_of_epochs)"
   ]
  },
  {
   "cell_type": "code",
   "execution_count": 16,
   "metadata": {},
   "outputs": [
    {
     "name": "stdout",
     "output_type": "stream",
     "text": [
      "polak train error 0.12390340678317362\n",
      "polak test error 0.11117425612196366\n"
     ]
    },
    {
     "data": {
      "image/png": "[encoded data removed]",
      "text/plain": [
       "<matplotlib.figure.Figure at 0x7f88e253f198>"
      ]
     },
     "metadata": {},
     "output_type": "display_data"
    }
   ],
   "source": [
    "print(\"polak train error \"+str(polaknet.train_errors.last()))\n",
    "print(\"polak test error \"+str(test_errors[len(test_errors)-1]))\n",
    "plt.clf()\n",
    "plt.grid(True)\n",
    "plt.plot(polaknet.train_errors, color='r', label='train') \n",
    "plt.plot(polaknet.validation_errors, color='b', label='valid') \n",
    "plt.plot(test_errors, color='g', label='test')\n",
    "plt.legend()\n",
    "plt.savefig('Polak_train_valid_test.png', bbox_inches='tight')\n",
    "nets[\"polak\"]=polaknet.last_epoch"
   ]
  },
  {
   "cell_type": "code",
   "execution_count": 17,
   "metadata": {},
   "outputs": [
    {
     "name": "stdout",
     "output_type": "stream",
     "text": [
      "\n",
      "Main information\n",
      "\n",
      "[ALGORITHM] QuasiNewton\n",
      "\n",
      "[OPTION] verbose = True\n",
      "[OPTION] epoch_end_signal = signal\n",
      "[OPTION] show_epoch = 50\n",
      "[OPTION] shuffle_data = True\n",
      "[OPTION] train_end_signal = None\n",
      "[OPTION] error = mse\n",
      "[OPTION] addons = None\n",
      "[OPTION] h0_scale = 1\n",
      "[OPTION] update_function = bfgs\n",
      "\n",
      "[THEANO] Initializing Theano variables and functions.\n",
      "[THEANO] Initialization finished successfully. It took 20.68 seconds\n"
     ]
    }
   ],
   "source": [
    "test_errors=[]\n",
    "bfgsnet = algorithms.QuasiNewton(\n",
    "     connection=[\n",
    "         layers.Input(2),\n",
    "         layers.Tanh(10, weight=copy.deepcopy(weight1), bias=copy.deepcopy(bias1)),\n",
    "         layers.Tanh(10, weight=copy.deepcopy(weight2), bias=copy.deepcopy(bias2)),\n",
    "         layers.Tanh(5, weight=copy.deepcopy(weight3), bias=copy.deepcopy(bias3)),\n",
    "         layers.Linear(1, weight=copy.deepcopy(weight4), bias=copy.deepcopy(bias4)),\n",
    "     ],\n",
    "     update_function='bfgs',\n",
    "     error='mse',\n",
    "     h0_scale=1,\n",
    "     epoch_end_signal=signal,\n",
    "     shuffle_data=True,\n",
    "     show_epoch=50,\n",
    "     verbose=True\n",
    " )"
   ]
  },
  {
   "cell_type": "code",
   "execution_count": 18,
   "metadata": {},
   "outputs": [
    {
     "name": "stdout",
     "output_type": "stream",
     "text": [
      "\n",
      "Start training\n",
      "\n",
      "[TRAINING DATA] shapes: (4665, 2)\n",
      "[TEST DATA] shapes: (2332, 2)\n",
      "[TRAINING] Total epochs: 1000\n",
      "\n",
      "---------------------------------------------------------\n",
      "|    Epoch    |  Train err  |  Valid err  |    Time     |\n",
      "---------------------------------------------------------\n",
      "|           1 |      2.3394 |     0.91329 |      125 ms |\n",
      "|          50 |     0.12634 |     0.12319 |       37 ms |\n",
      "|         100 |     0.12296 |     0.12188 |       19 ms |\n",
      "|         150 |     0.12131 |     0.12097 |       19 ms |\n",
      "|         200 |     0.12064 |     0.12098 |       19 ms |\n",
      "|         250 |     0.11996 |     0.12009 |       19 ms |\n",
      "|         300 |     0.11888 |     0.12024 |       20 ms |\n",
      "|         350 |     0.11743 |      0.1195 |       19 ms |\n",
      "|         400 |     0.11644 |     0.11785 |       19 ms |\n",
      "|         450 |     0.11576 |     0.11749 |       19 ms |\n",
      "|         500 |     0.11497 |      0.1173 |       20 ms |\n",
      "|         550 |      0.1142 |     0.11692 |       39 ms |\n",
      "|         600 |     0.11304 |     0.11599 |       20 ms |\n",
      "|         650 |     0.11248 |     0.11635 |       20 ms |\n",
      "|         700 |     0.11223 |      0.1159 |       20 ms |\n",
      "|         750 |     0.11196 |     0.11649 |       20 ms |\n",
      "|         800 |     0.11175 |     0.11686 |       19 ms |\n",
      "---------------------------------------------------------\n",
      "[TRAIN] Epoch #829 stopped. Training has been interrupted\n",
      "|         829 |     0.11164 |     0.11662 |       27 ms |\n",
      "\n"
     ]
    }
   ],
   "source": [
    "bfgsnet.train(learn_params, learn_target, validation_params, validation_target, epochs=number_of_epochs)"
   ]
  },
  {
   "cell_type": "code",
   "execution_count": 19,
   "metadata": {},
   "outputs": [
    {
     "name": "stdout",
     "output_type": "stream",
     "text": [
      "bfgs train error 0.11163552001785139\n",
      "bfgs test error 0.10796945472539146\n"
     ]
    },
    {
     "data": {
      "image/png": "[encoded data removed]",
      "text/plain": [
       "<matplotlib.figure.Figure at 0x7f88d0fc79b0>"
      ]
     },
     "metadata": {},
     "output_type": "display_data"
    }
   ],
   "source": [
    "print(\"bfgs train error \"+str(bfgsnet.train_errors.last()))\n",
    "print(\"bfgs test error \"+str(test_errors[len(test_errors)-1]))\n",
    "plt.clf()\n",
    "plt.grid(True)\n",
    "plt.plot(bfgsnet.train_errors, color='r', label='train') \n",
    "plt.plot(bfgsnet.validation_errors, color='b', label='valid') \n",
    "plt.plot(test_errors, color='g', label='test')\n",
    "plt.legend()\n",
    "plt.savefig('Bfgs_train_valid_test.png', bbox_inches='tight')\n",
    "nets[\"bfgs\"]=bfgsnet.last_epoch"
   ]
  },
  {
   "cell_type": "code",
   "execution_count": 20,
   "metadata": {},
   "outputs": [
    {
     "name": "stdout",
     "output_type": "stream",
     "text": [
      "\n",
      "Main information\n",
      "\n",
      "[ALGORITHM] LevenbergMarquardt\n",
      "\n",
      "[OPTION] verbose = True\n",
      "[OPTION] epoch_end_signal = signal\n",
      "[OPTION] show_epoch = 50\n",
      "[OPTION] shuffle_data = True\n",
      "[OPTION] train_end_signal = None\n",
      "[OPTION] addons = None\n",
      "[OPTION] error = mse\n",
      "[OPTION] mu = 0.5\n",
      "[OPTION] mu_update_factor = 1.3\n",
      "\n",
      "[THEANO] Initializing Theano variables and functions.\n",
      "[THEANO] Initialization finished successfully. It took 2.00 seconds\n"
     ]
    }
   ],
   "source": [
    "test_errors=[]\n",
    "lmnet = algorithms.LevenbergMarquardt(\n",
    "     connection=[\n",
    "         layers.Input(2),\n",
    "         layers.Tanh(10, weight=copy.deepcopy(weight1), bias=copy.deepcopy(bias1)),\n",
    "         layers.Tanh(10, weight=copy.deepcopy(weight2), bias=copy.deepcopy(bias2)),\n",
    "         layers.Tanh(5, weight=copy.deepcopy(weight3), bias=copy.deepcopy(bias3)),\n",
    "         layers.Linear(1, weight=copy.deepcopy(weight4), bias=copy.deepcopy(bias4)),\n",
    "     ],\n",
    "     epoch_end_signal=signal,\n",
    "     shuffle_data=True,\n",
    "     mu=0.5,\n",
    "     mu_update_factor=1.3,\n",
    "     show_epoch=50,\n",
    "     verbose=True\n",
    " )"
   ]
  },
  {
   "cell_type": "code",
   "execution_count": 21,
   "metadata": {},
   "outputs": [
    {
     "name": "stdout",
     "output_type": "stream",
     "text": [
      "\n",
      "Start training\n",
      "\n",
      "[TRAINING DATA] shapes: (4665, 2)\n",
      "[TEST DATA] shapes: (2332, 2)\n",
      "[TRAINING] Total epochs: 1000\n",
      "\n",
      "---------------------------------------------------------\n",
      "|    Epoch    |  Train err  |  Valid err  |    Time     |\n",
      "---------------------------------------------------------\n",
      "|           1 |      2.3394 |      2.1841 |       3 sec |\n",
      "|          50 |      1.0305 |     0.85365 |       3 sec |\n",
      "|         100 |     0.77509 |     0.78293 |       3 sec |\n",
      "|         150 |     0.57757 |     0.57832 |       4 sec |\n",
      "|         200 |     0.49557 |     0.40668 |       3 sec |\n",
      "---------------------------------------------------------\n",
      "[TRAIN] Epoch #245 stopped. Training has been interrupted\n",
      "|         245 |     0.40033 |     0.38509 |       3 sec |\n",
      "\n"
     ]
    }
   ],
   "source": [
    "lmnet.train(learn_params, learn_target, validation_params, validation_target, epochs=number_of_epochs)"
   ]
  },
  {
   "cell_type": "code",
   "execution_count": 22,
   "metadata": {},
   "outputs": [
    {
     "name": "stdout",
     "output_type": "stream",
     "text": [
      "lm train error 0.4003332293314025\n",
      "lm test error 0.3904395966606572\n"
     ]
    },
    {
     "data": {
      "image/png": "[encoded data removed]",
      "text/plain": [
       "<matplotlib.figure.Figure at 0x7f88d08a8e48>"
      ]
     },
     "metadata": {},
     "output_type": "display_data"
    }
   ],
   "source": [
    "print(\"lm train error \"+str(lmnet.train_errors.last()))\n",
    "print(\"lm test error \"+str(test_errors[len(test_errors)-1]))\n",
    "plt.clf()\n",
    "plt.grid(True)\n",
    "plt.plot(lmnet.train_errors, color='r', label='train') \n",
    "plt.plot(lmnet.validation_errors, color='b', label='valid') \n",
    "plt.plot(test_errors, color='g', label='test')\n",
    "plt.legend()\n",
    "plt.savefig('LM_train_valid_test.png', bbox_inches='tight')\n",
    "nets[\"lm\"]=lmnet.last_epoch"
   ]
  },
  {
   "cell_type": "code",
   "execution_count": 23,
   "metadata": {
    "collapsed": true
   },
   "outputs": [],
   "source": [
    "#nets=pd.DataFrame(nets)\n",
    "#nets=np.array(nets)\n",
    "#nets=pd.DataFrame(nets)\n",
    "#nets.to_csv(\"../nets.csv\")"
   ]
  },
  {
   "cell_type": "code",
   "execution_count": null,
   "metadata": {
    "collapsed": true
   },
   "outputs": [],
   "source": []
  }
 ],
 "metadata": {
  "kernelspec": {
   "display_name": "Python 3",
   "language": "python",
   "name": "python3"
  },
  "language_info": {
   "codemirror_mode": {
    "name": "ipython",
    "version": 3
   },
   "file_extension": ".py",
   "mimetype": "text/x-python",
   "name": "python",
   "nbconvert_exporter": "python",
   "pygments_lexer": "ipython3",
   "version": "3.6.1"
  }
 },
 "nbformat": 4,
 "nbformat_minor": 2
}

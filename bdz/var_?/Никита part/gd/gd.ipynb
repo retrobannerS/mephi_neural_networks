{
 "cells": [
  {
   "cell_type": "code",
   "execution_count": 1,
   "metadata": {},
   "outputs": [],
   "source": [
    "import pandas as pd\n",
    "import numpy as np\n",
    "import torch\n",
    "import torch.nn as nn\n",
    "import torch.nn.functional as F\n",
    "import torch.optim as optim\n",
    "from torch.utils.data import Dataset, DataLoader\n",
    "import matplotlib.pylab as plt"
   ]
  },
  {
   "cell_type": "code",
   "execution_count": 2,
   "metadata": {},
   "outputs": [],
   "source": [
    "dataset = pd.read_csv(filepath_or_buffer='../all_data.csv', index_col=0)\n",
    "FEATURES_INDEX = np.arange(2)\n",
    "LABELS_INDEX = 2\n",
    "BATCH_SIZE = int(0.6*len(dataset))\n",
    "LOSS_THRESHOLD = 1e-6\n",
    "dataset.head()\n",
    "dataset=np.array(dataset)"
   ]
  },
  {
   "cell_type": "markdown",
   "metadata": {},
   "source": [
    "spam_dataset = dataset[dataset[LABELS_INDEX] == 1]\n",
    "nonspam_dataset = dataset[dataset[LABELS_INDEX] == 0]\n",
    "nonspam_dataset.reset_index(drop=True, inplace=True)\n",
    "spam_dataset.reset_index(drop=True, inplace=True)\n",
    "nonspam_dataset.tail()"
   ]
  },
  {
   "cell_type": "markdown",
   "metadata": {},
   "source": [
    "rand_indxs_spam = np.arange(len(spam_dataset))\n",
    "rand_indxs_nonspam = np.arange(len(nonspam_dataset))\n",
    "np.random.shuffle(rand_indxs_nonspam)\n",
    "np.random.shuffle(rand_indxs_spam)\n",
    "\n",
    "spam_f_threshold = int(len(spam_dataset)*0.6)\n",
    "spam_s_threshold = int(len(spam_dataset)*0.9)\n",
    "\n",
    "nonspam_f_threshold = int(len(nonspam_dataset)*0.6)\n",
    "nonspam_s_threshold = int(len(nonspam_dataset)*0.9)\n",
    "\n",
    "learn_dataset = pd.concat([spam_dataset.iloc[rand_indxs_spam[:spam_f_threshold]],\n",
    "                          nonspam_dataset.iloc[rand_indxs_nonspam[:nonspam_f_threshold]]])\n",
    "\n",
    "valid_dataset = pd.concat([spam_dataset.iloc[rand_indxs_spam[spam_f_threshold:spam_s_threshold]],\n",
    "                          nonspam_dataset.iloc[rand_indxs_nonspam[nonspam_f_threshold:nonspam_s_threshold]]])\n",
    "\n",
    "test_dataset = pd.concat([spam_dataset.iloc[rand_indxs_spam[spam_s_threshold:]],\n",
    "                         nonspam_dataset.iloc[rand_indxs_nonspam[nonspam_s_threshold:]]])\n",
    "\n",
    "print(len(learn_dataset), len(valid_dataset), len(test_dataset), len(learn_dataset)+len(valid_dataset)+len(test_dataset), len(dataset))"
   ]
  },
  {
   "cell_type": "code",
   "execution_count": 3,
   "metadata": {},
   "outputs": [
    {
     "data": {
      "text/plain": [
       "7775"
      ]
     },
     "execution_count": 3,
     "metadata": {},
     "output_type": "execute_result"
    }
   ],
   "source": [
    "learn_dataset = dataset[0: int(0.6*len(dataset))]\n",
    "valid_dataset = dataset[int(0.6*len(dataset)): int(0.9*len(dataset))]\n",
    "test_dataset = dataset[int(0.9*len(dataset)): len(dataset)]\n",
    "len(dataset)"
   ]
  },
  {
   "cell_type": "code",
   "execution_count": 4,
   "metadata": {},
   "outputs": [],
   "source": [
    "learn_dataset = np.array(learn_dataset)\n",
    "valid_dataset = np.array(valid_dataset)\n",
    "test_dataset = np.array(test_dataset)"
   ]
  },
  {
   "cell_type": "code",
   "execution_count": 5,
   "metadata": {},
   "outputs": [],
   "source": [
    "learn_dataloader = DataLoader(learn_dataset, batch_size=BATCH_SIZE, shuffle=True)\n",
    "valid_dataloader = DataLoader(valid_dataset, batch_size=len(valid_dataset), shuffle=True)\n",
    "test_dataloader = DataLoader(test_dataset, batch_size=len(test_dataset), shuffle=True)"
   ]
  },
  {
   "cell_type": "code",
   "execution_count": 6,
   "metadata": {},
   "outputs": [
    {
     "data": {
      "text/plain": [
       "Net(\n",
       "  (lin1): Linear(in_features=2, out_features=10, bias=True)\n",
       "  (lin2): Linear(in_features=10, out_features=10, bias=True)\n",
       "  (lin3): Linear(in_features=10, out_features=5, bias=True)\n",
       "  (lin4): Linear(in_features=5, out_features=1, bias=True)\n",
       ")"
      ]
     },
     "execution_count": 6,
     "metadata": {},
     "output_type": "execute_result"
    }
   ],
   "source": [
    "class Net(nn.Module):\n",
    "    def __init__(self):\n",
    "        super(Net, self).__init__()\n",
    "        self.lin1 = nn.Linear(2, 10)\n",
    "        self.lin2 = nn.Linear(10, 10)\n",
    "        self.lin3 = nn.Linear(10, 5)\n",
    "        self.lin4 = nn.Linear(5, 1)\n",
    "\n",
    "    def forward(self, x):\n",
    "        x = F.tanh(self.lin1(x))\n",
    "        x = F.tanh(self.lin2(x))\n",
    "        x = F.tanh(self.lin3(x))\n",
    "        x = self.lin4(x)\n",
    "        return x\n",
    "\n",
    "net = Net()\n",
    "net"
   ]
  },
  {
   "cell_type": "code",
   "execution_count": 7,
   "metadata": {},
   "outputs": [],
   "source": [
    "is_load = False\n",
    "if is_load:\n",
    "    net.load_state_dict(torch.load('gd/net_params.pkl'))"
   ]
  },
  {
   "cell_type": "code",
   "execution_count": 8,
   "metadata": {},
   "outputs": [
    {
     "name": "stdout",
     "output_type": "stream",
     "text": [
      "torch.Size([10, 2])\n",
      "torch.Size([10])\n",
      "torch.Size([10, 10])\n",
      "torch.Size([10])\n",
      "torch.Size([5, 10])\n",
      "torch.Size([5])\n",
      "torch.Size([1, 5])\n",
      "torch.Size([1])\n",
      "tensor([ 0.1043, -0.4861,  0.2494, -0.4144,  0.1533,  0.0123, -0.3635,\n",
      "         0.5452,  0.0867, -0.1032])\n"
     ]
    }
   ],
   "source": [
    "#Инициализация весов\n",
    "STD = [(2/(2+10+1))**(1/2), (2/(10+10+1))**(1/2), (32/(10+5+1))**(1/2), (32/(5+1+1))**(1/2)]\n",
    "null_weigth = []\n",
    "STD.reverse()\n",
    "\n",
    "def get_weights(layer):\n",
    "    if (type(layer) == nn.Linear):\n",
    "        cur_std = STD.pop()\n",
    "        null_weigth.append(torch.randn(layer.weight.data.shape)*cur_std)\n",
    "        null_weigth.append(torch.randn(layer.bias.data.shape)*cur_std)\n",
    "\n",
    "net.apply(get_weights)\n",
    "for k in null_weigth:\n",
    "    print(k.shape)\n",
    "print(null_weigth[1])\n",
    "null_weigth.reverse()"
   ]
  },
  {
   "cell_type": "code",
   "execution_count": 9,
   "metadata": {},
   "outputs": [
    {
     "data": {
      "text/plain": [
       "Parameter containing:\n",
       "tensor([ 0.1043, -0.4861,  0.2494, -0.4144,  0.1533,  0.0123, -0.3635,\n",
       "         0.5452,  0.0867, -0.1032])"
      ]
     },
     "execution_count": 9,
     "metadata": {},
     "output_type": "execute_result"
    }
   ],
   "source": [
    "tmp_null_weigth = list(null_weigth)\n",
    "\n",
    "def init_weigths(layer):\n",
    "    if(type(layer) == nn.Linear):\n",
    "        layer.weight.data = (tmp_null_weigth.pop()).clone()\n",
    "        layer.bias.data = (tmp_null_weigth.pop()).clone()\n",
    "        \n",
    "net.apply(init_weigths)\n",
    "net.lin1.bias"
   ]
  },
  {
   "cell_type": "code",
   "execution_count": 10,
   "metadata": {},
   "outputs": [],
   "source": [
    "criterion = nn.MSELoss(size_average=True)"
   ]
  },
  {
   "cell_type": "code",
   "execution_count": null,
   "metadata": {},
   "outputs": [],
   "source": []
  },
  {
   "cell_type": "code",
   "execution_count": 11,
   "metadata": {},
   "outputs": [
    {
     "name": "stdout",
     "output_type": "stream",
     "text": [
      "9.685754776000977e-07\n",
      "lr:  0.01  breaked on epoch:  468 \n",
      "\n",
      "-9.5367431640625e-07\n",
      "lr:  0.001  breaked on epoch:  2804 \n",
      "\n",
      "CPU times: user 14min 18s, sys: 16.1 s, total: 14min 34s\n",
      "Wall time: 11min 38s\n"
     ]
    }
   ],
   "source": [
    "%%time\n",
    "learn_loss_by_lr = []\n",
    "valid_loss_by_lr = []\n",
    "test_loss_by_lr = []\n",
    "epoch_loss_by_lr = []\n",
    "lr_list = [0.1, 0.01, 0.001, 0.0001, 0.00001]\n",
    "\n",
    "for lr in lr_list:\n",
    "    optimizer = optim.SGD(net.parameters(), lr=lr)\n",
    "    \n",
    "    tmp_null_weigth = list(null_weigth)\n",
    "    net.apply(init_weigths)\n",
    "    \n",
    "    learn_epoch_loss = []\n",
    "    valid_epoch_loss = []\n",
    "    test_epoch_loss = []\n",
    "    epoch_list = []\n",
    "    \n",
    "    for epoch in range(5000):\n",
    "        loss_acc = []\n",
    "        for learn_data in learn_dataloader:\n",
    "            optimizer.zero_grad()\n",
    "            features, labels = learn_data[:, FEATURES_INDEX].float(), learn_data[:, LABELS_INDEX].float()\n",
    "            features.requres_grad = True\n",
    "            labels.requres_grad = True\n",
    "            outputs = net(features).squeeze()\n",
    "            loss = criterion(outputs, labels)\n",
    "            loss.backward()\n",
    "            optimizer.step()\n",
    "            loss_acc.append(float(loss.data))\n",
    "        learn_epoch_loss.append(np.mean(loss_acc))\n",
    "        \n",
    "        #критерий останова\n",
    "        if (epoch > 10) and (abs(learn_epoch_loss[len(learn_epoch_loss) - 1] - learn_epoch_loss[len(learn_epoch_loss) - 2]) < LOSS_THRESHOLD):\n",
    "            print(learn_epoch_loss[len(learn_epoch_loss) - 1] - learn_epoch_loss[len(learn_epoch_loss) - 2])\n",
    "            print('lr: ', lr, ' breaked on epoch: ', epoch, '\\n')\n",
    "            break\n",
    "            \n",
    "        if epoch % 100 == 0:\n",
    "            epoch_list.append(epoch)\n",
    "            for valid_data in valid_dataloader:\n",
    "                features, labels = valid_data[:, FEATURES_INDEX].float(), valid_data[:, LABELS_INDEX].float()\n",
    "                outputs = net(features).squeeze()\n",
    "                loss = criterion(outputs, labels)\n",
    "                valid_epoch_loss.append(float(loss.data))\n",
    "                \n",
    "            for test_data in valid_dataloader:\n",
    "                features, labels = test_data[:, FEATURES_INDEX].float(), test_data[:, LABELS_INDEX].float()\n",
    "                outputs = net(features).squeeze()\n",
    "                loss = criterion(outputs, labels)\n",
    "                test_epoch_loss.append(float(loss.data))\n",
    "                \n",
    "    learn_loss_by_lr.append(learn_epoch_loss)\n",
    "    valid_loss_by_lr.append(valid_epoch_loss)\n",
    "    test_loss_by_lr.append(test_epoch_loss)\n",
    "    epoch_loss_by_lr.append(epoch_list)"
   ]
  },
  {
   "cell_type": "code",
   "execution_count": 12,
   "metadata": {},
   "outputs": [
    {
     "data": {
      "image/png": "[encoded data removed]",
      "text/plain": [
       "<matplotlib.figure.Figure at 0x7f14c27aef98>"
      ]
     },
     "metadata": {},
     "output_type": "display_data"
    }
   ],
   "source": [
    "#learn\n",
    "for num, i in enumerate(lr_list):\n",
    "    plt.plot(learn_loss_by_lr[num], label=str(i))\n",
    "plt.title('learn loss')\n",
    "plt.legend()\n",
    "plt.savefig('gd/learn_loss.png', bbox_inches='tight')"
   ]
  },
  {
   "cell_type": "code",
   "execution_count": 13,
   "metadata": {},
   "outputs": [
    {
     "data": {
      "image/png": "[encoded data removed]",
      "text/plain": [
       "<matplotlib.figure.Figure at 0x7f14c01fd2e8>"
      ]
     },
     "metadata": {},
     "output_type": "display_data"
    }
   ],
   "source": [
    "#valid\n",
    "for num, i in enumerate(lr_list):\n",
    "    plt.plot(epoch_loss_by_lr[num], valid_loss_by_lr[num], label=str(i))\n",
    "plt.title('valid loss')\n",
    "plt.legend()\n",
    "plt.savefig('gd/valid_loss.png', bbox_inches='tight')"
   ]
  },
  {
   "cell_type": "code",
   "execution_count": 32,
   "metadata": {},
   "outputs": [
    {
     "data": {
      "image/png": "[encoded data removed]",
      "text/plain": [
       "<matplotlib.figure.Figure at 0x7f14b802c2e8>"
      ]
     },
     "metadata": {},
     "output_type": "display_data"
    }
   ],
   "source": [
    "#test\n",
    "for num, i in enumerate(lr_list):\n",
    "    plt.plot(epoch_loss_by_lr[num], test_loss_by_lr[num], label=str(i))\n",
    "plt.title('test loss')\n",
    "plt.legend()\n",
    "plt.savefig('gd/test_loss.png', bbox_inches='tight')"
   ]
  },
  {
   "cell_type": "code",
   "execution_count": 16,
   "metadata": {},
   "outputs": [
    {
     "name": "stdout",
     "output_type": "stream",
     "text": [
      "0.12355811893939972\n",
      "0.13391214609146118\n",
      "0.13318787515163422\n",
      "0.1564333736896515\n",
      "0.9905683994293213\n"
     ]
    }
   ],
   "source": [
    "for i in range(5):\n",
    "    print((learn_loss_by_lr[i])[-1])"
   ]
  },
  {
   "cell_type": "code",
   "execution_count": 15,
   "metadata": {},
   "outputs": [
    {
     "name": "stdout",
     "output_type": "stream",
     "text": [
      "0.12181378155946732\n",
      "0.13293418288230896\n",
      "0.1328890323638916\n",
      "0.1546892374753952\n",
      "0.9948427677154541\n"
     ]
    }
   ],
   "source": [
    "for i in range(5):\n",
    "    print((test_loss_by_lr[i])[-1])"
   ]
  },
  {
   "cell_type": "code",
   "execution_count": 31,
   "metadata": {},
   "outputs": [
    {
     "data": {
      "text/plain": [
       "[[17.78319549560547,\n",
       "  0.14223937690258026,\n",
       "  0.1336154043674469,\n",
       "  0.13062991201877594,\n",
       "  0.1288825124502182,\n",
       "  0.12794463336467743,\n",
       "  0.12725363671779633,\n",
       "  0.1266968995332718,\n",
       "  0.12621799111366272,\n",
       "  0.12577414512634277,\n",
       "  0.1253679394721985,\n",
       "  0.12502115964889526,\n",
       "  0.1247463971376419,\n",
       "  0.12454146146774292,\n",
       "  0.12439167499542236,\n",
       "  0.12428039312362671,\n",
       "  0.12419062852859497,\n",
       "  0.12410814315080643,\n",
       "  0.12401939183473587,\n",
       "  0.12391356378793716,\n",
       "  0.12378872185945511,\n",
       "  0.12365378439426422,\n",
       "  0.12352518737316132,\n",
       "  0.12341469526290894,\n",
       "  0.12332428246736526,\n",
       "  0.12324929237365723,\n",
       "  0.12318366765975952,\n",
       "  0.12312330305576324,\n",
       "  0.12306421250104904,\n",
       "  0.12300466001033783,\n",
       "  0.12294422835111618,\n",
       "  0.12288214266300201,\n",
       "  0.12281826883554459,\n",
       "  0.12275311350822449,\n",
       "  0.12268651276826859,\n",
       "  0.12261931598186493,\n",
       "  0.122551828622818,\n",
       "  0.12248453497886658,\n",
       "  0.12241766601800919,\n",
       "  0.12235160917043686,\n",
       "  0.1222868263721466,\n",
       "  0.12222414463758469,\n",
       "  0.12216326594352722,\n",
       "  0.12210509926080704,\n",
       "  0.12204913794994354,\n",
       "  0.12199626863002777,\n",
       "  0.12194604426622391,\n",
       "  0.12189886718988419,\n",
       "  0.12185478210449219,\n",
       "  0.12181378155946732],\n",
       " [7.107513904571533,\n",
       "  0.15700365602970123,\n",
       "  0.1412467658519745,\n",
       "  0.13532477617263794,\n",
       "  0.13293418288230896],\n",
       " [12.991814613342285,\n",
       "  0.2780977785587311,\n",
       "  0.16953144967556,\n",
       "  0.16308443248271942,\n",
       "  0.15773634612560272,\n",
       "  0.15330693125724792,\n",
       "  0.14969885349273682,\n",
       "  0.1467982679605484,\n",
       "  0.144485741853714,\n",
       "  0.1426459103822708,\n",
       "  0.1411752849817276,\n",
       "  0.13998691737651825,\n",
       "  0.13901206851005554,\n",
       "  0.1381983906030655,\n",
       "  0.13750705122947693,\n",
       "  0.13691061735153198,\n",
       "  0.13638854026794434,\n",
       "  0.13592621684074402,\n",
       "  0.1355126053094864,\n",
       "  0.1351395845413208,\n",
       "  0.13480067253112793,\n",
       "  0.1344912052154541,\n",
       "  0.13420715928077698,\n",
       "  0.13394533097743988,\n",
       "  0.13370271027088165,\n",
       "  0.1334776133298874,\n",
       "  0.13326811790466309,\n",
       "  0.13307222723960876,\n",
       "  0.1328890323638916],\n",
       " [13.588018417358398,\n",
       "  3.910374879837036,\n",
       "  2.146653890609741,\n",
       "  1.5292079448699951,\n",
       "  1.2053186893463135,\n",
       "  0.9740148186683655,\n",
       "  0.780640721321106,\n",
       "  0.6100780963897705,\n",
       "  0.4617750346660614,\n",
       "  0.34351393580436707,\n",
       "  0.26269012689590454,\n",
       "  0.2165660858154297,\n",
       "  0.1938377022743225,\n",
       "  0.18340477347373962,\n",
       "  0.1785028725862503,\n",
       "  0.1759187877178192,\n",
       "  0.17430351674556732,\n",
       "  0.17311516404151917,\n",
       "  0.17213544249534607,\n",
       "  0.17126981914043427,\n",
       "  0.1704753190279007,\n",
       "  0.16972973942756653,\n",
       "  0.16902022063732147,\n",
       "  0.16833820939064026,\n",
       "  0.1676785945892334,\n",
       "  0.16703765094280243,\n",
       "  0.16641224920749664,\n",
       "  0.16580109298229218,\n",
       "  0.1652022898197174,\n",
       "  0.16461431980133057,\n",
       "  0.16403765976428986,\n",
       "  0.1634700894355774,\n",
       "  0.1629122644662857,\n",
       "  0.16236326098442078,\n",
       "  0.16182240843772888,\n",
       "  0.16129088401794434,\n",
       "  0.16076752543449402,\n",
       "  0.1602523922920227,\n",
       "  0.15974555909633636,\n",
       "  0.15924713015556335,\n",
       "  0.15875619649887085,\n",
       "  0.15827351808547974,\n",
       "  0.15779808163642883,\n",
       "  0.15733106434345245,\n",
       "  0.1568722277879715,\n",
       "  0.15642009675502777,\n",
       "  0.15597625076770782,\n",
       "  0.15553973615169525,\n",
       "  0.15511083602905273,\n",
       "  0.1546892374753952],\n",
       " [13.64775562286377,\n",
       "  12.98244571685791,\n",
       "  12.302971839904785,\n",
       "  11.581610679626465,\n",
       "  10.77432632446289,\n",
       "  9.818429946899414,\n",
       "  8.640495300292969,\n",
       "  7.213897228240967,\n",
       "  5.725740432739258,\n",
       "  4.592543601989746,\n",
       "  3.941683530807495,\n",
       "  3.5675008296966553,\n",
       "  3.3082566261291504,\n",
       "  3.0989251136779785,\n",
       "  2.9172661304473877,\n",
       "  2.755316972732544,\n",
       "  2.6095969676971436,\n",
       "  2.478044271469116,\n",
       "  2.359095335006714,\n",
       "  2.251394510269165,\n",
       "  2.1537439823150635,\n",
       "  2.065016269683838,\n",
       "  1.9842216968536377,\n",
       "  1.910453200340271,\n",
       "  1.8428822755813599,\n",
       "  1.780800223350525,\n",
       "  1.7235431671142578,\n",
       "  1.6705563068389893,\n",
       "  1.6213241815567017,\n",
       "  1.5754119157791138,\n",
       "  1.532433032989502,\n",
       "  1.49204421043396,\n",
       "  1.4539464712142944,\n",
       "  1.4178807735443115,\n",
       "  1.3836350440979004,\n",
       "  1.3509912490844727,\n",
       "  1.319777011871338,\n",
       "  1.2898441553115845,\n",
       "  1.261055588722229,\n",
       "  1.2333006858825684,\n",
       "  1.2064752578735352,\n",
       "  1.1804841756820679,\n",
       "  1.1552435159683228,\n",
       "  1.1306939125061035,\n",
       "  1.106773853302002,\n",
       "  1.0834184885025024,\n",
       "  1.0605844259262085,\n",
       "  1.038233995437622,\n",
       "  1.016333818435669,\n",
       "  0.9948427677154541]]"
      ]
     },
     "execution_count": 31,
     "metadata": {},
     "output_type": "execute_result"
    }
   ],
   "source": [
    "len(test_loss_by_lr[3])"
   ]
  },
  {
   "cell_type": "code",
   "execution_count": null,
   "metadata": {},
   "outputs": [],
   "source": []
  }
 ],
 "metadata": {
  "kernelspec": {
   "display_name": "Python 3",
   "language": "python",
   "name": "python3"
  },
  "language_info": {
   "codemirror_mode": {
    "name": "ipython",
    "version": 3
   },
   "file_extension": ".py",
   "mimetype": "text/x-python",
   "name": "python",
   "nbconvert_exporter": "python",
   "pygments_lexer": "ipython3",
   "version": "3.6.4"
  }
 },
 "nbformat": 4,
 "nbformat_minor": 2
}
